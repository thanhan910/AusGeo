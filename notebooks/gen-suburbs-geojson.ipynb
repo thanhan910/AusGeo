{
 "cells": [
  {
   "cell_type": "code",
   "execution_count": 2,
   "metadata": {},
   "outputs": [],
   "source": [
    "# Generate GeoJSON files of suburbs-postcodes areas in Australia\n",
    "\n",
    "import pandas as pd\n",
    "import geopandas as gpd\n",
    "import os\n",
    "import requests\n",
    "from urllib.parse import urljoin\n",
    "from bs4 import BeautifulSoup\n",
    "import time\n",
    "import numpy as np"
   ]
  },
  {
   "cell_type": "code",
   "execution_count": 42,
   "metadata": {},
   "outputs": [],
   "source": [
    "df_MB = pd.read_csv('../data/mb-info/MB_2021_AUST.csv', dtype=str)\n",
    "df_SAL = pd.read_csv('../data/mb-info/SAL_2021_AUST.csv', dtype=str)\n",
    "df_POA = pd.read_csv('../data/mb-info/POA_2021_AUST.csv', dtype=str)\n",
    "df_MB_SAL = pd.read_csv('../data/mb-info/MB_SAL_2021_AUST.csv', dtype=str)\n",
    "df_MB_POA = pd.read_csv('../data/mb-info/MB_POA_2021_AUST.csv', dtype=str)\n",
    "# 1s - 2s"
   ]
  },
  {
   "cell_type": "code",
   "execution_count": 43,
   "metadata": {},
   "outputs": [],
   "source": [
    "df_MB = pd.merge(df_MB, df_MB_SAL, on='MB_CODE_2021', how='left')\n",
    "df_MB = pd.merge(df_MB, df_MB_POA, on='MB_CODE_2021', how='left')\n",
    "# 1s - 2s"
   ]
  },
  {
   "cell_type": "code",
   "execution_count": 11,
   "metadata": {},
   "outputs": [],
   "source": [
    "GDF : gpd.GeoDataFrame = gpd.read_file('../local/mb.geojson')"
   ]
  },
  {
   "cell_type": "code",
   "execution_count": 13,
   "metadata": {},
   "outputs": [],
   "source": [
    "GDF.dropna(subset=['geometry'], inplace=True)"
   ]
  },
  {
   "cell_type": "code",
   "execution_count": 17,
   "metadata": {},
   "outputs": [],
   "source": [
    "GDF = GDF.merge(df_MB[['MB_CODE_2021', 'SAL_CODE_2021', 'POA_CODE_2021']], left_on='id', right_on='MB_CODE_2021', how='left')\n",
    "# 1s - 2s\n",
    "GDF.drop(columns=['MB_CODE_2021'], inplace=True)\n",
    "GDF.rename(columns={'SAL_CODE_2021': 'suburb_id', 'POA_CODE_2021': 'postcode_id'}, inplace=True)"
   ]
  },
  {
   "cell_type": "code",
   "execution_count": 21,
   "metadata": {},
   "outputs": [],
   "source": [
    "GDF = gpd.GeoDataFrame(GDF, crs='EPSG:4326', geometry='geometry')"
   ]
  },
  {
   "cell_type": "code",
   "execution_count": 22,
   "metadata": {},
   "outputs": [],
   "source": [
    "# GRoup by postcode_id and suburb_id\n",
    "GDF = GDF.dissolve(by=['suburb_id', 'postcode_id'], aggfunc='first')\n",
    "# 3m -4m"
   ]
  },
  {
   "cell_type": "code",
   "execution_count": 24,
   "metadata": {},
   "outputs": [],
   "source": [
    "GDF.reset_index(inplace=True)"
   ]
  },
  {
   "cell_type": "code",
   "execution_count": 25,
   "metadata": {},
   "outputs": [],
   "source": [
    "GDF = GDF[['postcode_id', 'suburb_id', 'geometry']]"
   ]
  },
  {
   "cell_type": "code",
   "execution_count": 40,
   "metadata": {},
   "outputs": [],
   "source": [
    "df_SA1 = pd.read_csv('../data/mb-info/SA1_2021_AUST.csv', dtype=str)\n",
    "df_SA2 = pd.read_csv('../data/mb-info/SA2_2021_AUST.csv', dtype=str)\n",
    "df_SA3 = pd.read_csv('../data/mb-info/SA3_2021_AUST.csv', dtype=str)\n",
    "df_SA4 = pd.read_csv('../data/mb-info/SA4_2021_AUST.csv', dtype=str)\n",
    "df_GCCSA = pd.read_csv('../data/mb-info/GCCSA_2021_AUST.csv', dtype=str)\n",
    "df_MB = df_MB[['MB_CODE_2021', 'SAL_CODE_2021', 'POA_CODE_2021', 'SA1_CODE_2021']]\n",
    "df_MB = pd.merge(df_MB, df_SA1[['SA1_CODE_2021', 'SA2_CODE_2021']], on='SA1_CODE_2021', how='left')\n",
    "df_MB = pd.merge(df_MB, df_SA2[['SA2_CODE_2021', 'SA3_CODE_2021']], on='SA2_CODE_2021', how='left')\n",
    "df_MB = pd.merge(df_MB, df_SA3[['SA3_CODE_2021', 'SA4_CODE_2021']], on='SA3_CODE_2021', how='left')\n",
    "df_MB = pd.merge(df_MB, df_SA4[['SA4_CODE_2021', 'GCCSA_CODE_2021']], on='SA4_CODE_2021', how='left')\n",
    "df_MB = pd.merge(df_MB, df_GCCSA[['GCCSA_CODE_2021', 'STATE_CODE_2021']], on='GCCSA_CODE_2021', how='left')"
   ]
  },
  {
   "cell_type": "code",
   "execution_count": 77,
   "metadata": {},
   "outputs": [],
   "source": [
    "df_SP_GCCSA = df_MB[['SAL_CODE_2021', 'POA_CODE_2021', 'GCCSA_CODE_2021']].drop_duplicates().reset_index(drop=True)\n",
    "# # Partition df_SP_GCCSA by GCCSA_CODE_2021\n",
    "# df_SP_GCCSA = df_SP_GCCSA.groupby('GCCSA_CODE_2021').apply(lambda x: x[['SAL_CODE_2021', 'POA_CODE_2021']].reset_index(drop=True))\n",
    "# df_SP_GCCSA = df_SP_GCCSA.groupby(['SAL_CODE_2021', 'POA_CODE_2021'])['GCCSA_CODE_2021'].unique().reset_index()"
   ]
  },
  {
   "cell_type": "code",
   "execution_count": 85,
   "metadata": {},
   "outputs": [],
   "source": [
    "gdf_SP_GCCSA = pd.merge(df_SP_GCCSA, GDF, left_on=['SAL_CODE_2021', 'POA_CODE_2021'], right_on=['suburb_id', 'postcode_id']).drop(columns=['SAL_CODE_2021', 'POA_CODE_2021'])"
   ]
  },
  {
   "cell_type": "code",
   "execution_count": 86,
   "metadata": {},
   "outputs": [],
   "source": [
    "gdf_SP_GCCSA = gpd.GeoDataFrame(gdf_SP_GCCSA, crs='EPSG:4326', geometry='geometry')"
   ]
  },
  {
   "cell_type": "code",
   "execution_count": 89,
   "metadata": {},
   "outputs": [],
   "source": [
    "os.makedirs('../local/suburbs', exist_ok=True)"
   ]
  },
  {
   "cell_type": "code",
   "execution_count": 90,
   "metadata": {},
   "outputs": [
    {
     "data": {
      "text/html": [
       "<div>\n",
       "<style scoped>\n",
       "    .dataframe tbody tr th:only-of-type {\n",
       "        vertical-align: middle;\n",
       "    }\n",
       "\n",
       "    .dataframe tbody tr th {\n",
       "        vertical-align: top;\n",
       "    }\n",
       "\n",
       "    .dataframe thead th {\n",
       "        text-align: right;\n",
       "    }\n",
       "</style>\n",
       "<table border=\"1\" class=\"dataframe\">\n",
       "  <thead>\n",
       "    <tr style=\"text-align: right;\">\n",
       "      <th></th>\n",
       "    </tr>\n",
       "  </thead>\n",
       "  <tbody>\n",
       "  </tbody>\n",
       "</table>\n",
       "</div>"
      ],
      "text/plain": [
       "Empty DataFrame\n",
       "Columns: []\n",
       "Index: []"
      ]
     },
     "execution_count": 90,
     "metadata": {},
     "output_type": "execute_result"
    }
   ],
   "source": [
    "gdf_SP_GCCSA.groupby('GCCSA_CODE_2021').apply(lambda x: x[['suburb_id', 'postcode_id', 'geometry']].to_file(f'../local/suburbs/suburbs-{x.name}.geojson', driver='GeoJSON'))\n",
    "# 1m 30s - 4m"
   ]
  },
  {
   "cell_type": "code",
   "execution_count": 94,
   "metadata": {},
   "outputs": [],
   "source": [
    "gdf_1RNSW = gdf_SP_GCCSA[gdf_SP_GCCSA['GCCSA_CODE_2021'] == '1RNSW'].reset_index(drop=True)"
   ]
  },
  {
   "cell_type": "code",
   "execution_count": 98,
   "metadata": {},
   "outputs": [
    {
     "data": {
      "text/plain": [
       "postcode_id\n",
       "22     127\n",
       "23     665\n",
       "24    1024\n",
       "25     571\n",
       "26     464\n",
       "27     366\n",
       "28     419\n",
       "36       3\n",
       "37       1\n",
       "43       9\n",
       "Name: count, dtype: int64"
      ]
     },
     "execution_count": 98,
     "metadata": {},
     "output_type": "execute_result"
    }
   ],
   "source": [
    "gdf_1RNSW['postcode_id'].str[:2].value_counts().sort_index()"
   ]
  },
  {
   "cell_type": "code",
   "execution_count": 99,
   "metadata": {},
   "outputs": [],
   "source": [
    "# Partition gdf_1RNSW by postcode_id < 2500 and >= 2500\n",
    "gdf_1RNSW_2500 = gdf_1RNSW[gdf_1RNSW['postcode_id'].str[:2] >= '25'].reset_index(drop=True)\n",
    "gdf_1RNSW_2499 = gdf_1RNSW[gdf_1RNSW['postcode_id'].str[:2] < '25'].reset_index(drop=True)"
   ]
  },
  {
   "cell_type": "code",
   "execution_count": 101,
   "metadata": {},
   "outputs": [],
   "source": [
    "gdf_1RNSW_2499.to_file('../local/suburbs/suburbs-1RNSW-2499.geojson', driver='GeoJSON')\n",
    "gdf_1RNSW_2500.to_file('../local/suburbs/suburbs-1RNSW-2500.geojson', driver='GeoJSON')\n",
    "# 30s - 1m"
   ]
  }
 ],
 "metadata": {
  "kernelspec": {
   "display_name": "Python 3",
   "language": "python",
   "name": "python3"
  },
  "language_info": {
   "codemirror_mode": {
    "name": "ipython",
    "version": 3
   },
   "file_extension": ".py",
   "mimetype": "text/x-python",
   "name": "python",
   "nbconvert_exporter": "python",
   "pygments_lexer": "ipython3",
   "version": "3.12.0"
  }
 },
 "nbformat": 4,
 "nbformat_minor": 2
}
